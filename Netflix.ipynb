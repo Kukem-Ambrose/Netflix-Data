{
 "cells": [
  {
   "cell_type": "markdown",
   "id": "d67af1f0-e770-4eb5-b1b1-09e2cedd570a",
   "metadata": {},
   "source": [
    "# Import the \"Pandas\" library"
   ]
  },
  {
   "cell_type": "code",
   "execution_count": null,
   "id": "1606b64f-640b-4fcf-96a7-893a44bf5733",
   "metadata": {},
   "outputs": [],
   "source": [
    "import pandas as pd"
   ]
  },
  {
   "cell_type": "markdown",
   "id": "a998dc42-5aab-4a22-8bcc-68fb1ab272cc",
   "metadata": {},
   "source": [
    "# Load the Netflix data from the downloaded file"
   ]
  },
  {
   "cell_type": "code",
   "execution_count": null,
   "id": "93c0c530-a87a-4715-b2be-31c128d0e926",
   "metadata": {},
   "outputs": [],
   "source": [
    "netflix = pd.read_csv(\"B:\\\\My Data Projects\\\\netflix_titles.csv\", index_col = \"show_id\")\n",
    "netflix"
   ]
  },
  {
   "cell_type": "markdown",
   "id": "9ddf0b94-1af3-4d94-859f-bb2dfd53b526",
   "metadata": {},
   "source": [
    "# Check for missing data"
   ]
  },
  {
   "cell_type": "code",
   "execution_count": null,
   "id": "fad4e46a-c9b5-4983-8f5e-1ea46d076a39",
   "metadata": {},
   "outputs": [],
   "source": [
    "print(netflix.isnull().sum())"
   ]
  },
  {
   "cell_type": "markdown",
   "id": "6bccc7fe-edf4-4145-b825-42509794fa24",
   "metadata": {},
   "source": [
    "# Fill missing directors with \"Unknown\""
   ]
  },
  {
   "cell_type": "code",
   "execution_count": null,
   "id": "1f3fbec0-c5d9-482a-949b-24a921fad969",
   "metadata": {},
   "outputs": [],
   "source": [
    "netflix[\"director\"].fillna(\"Unkown\")"
   ]
  },
  {
   "cell_type": "markdown",
   "id": "0094fc3a-0bfc-4632-88c5-e9e2cb0ec3ad",
   "metadata": {},
   "source": [
    "# Do thesame for missing country"
   ]
  },
  {
   "cell_type": "code",
   "execution_count": null,
   "id": "0019a2a1-5d88-442c-91cb-6e79cbc99353",
   "metadata": {},
   "outputs": [],
   "source": [
    "netflix[\"country\"].fillna(\"Unknown\")"
   ]
  },
  {
   "cell_type": "markdown",
   "id": "6d8f7293-5ccc-42b5-9978-77d4a81198a2",
   "metadata": {},
   "source": [
    "# Fix dates"
   ]
  },
  {
   "cell_type": "code",
   "execution_count": null,
   "id": "fb044dfc-1dc5-47ea-8d07-fbe4c7af7e13",
   "metadata": {},
   "outputs": [],
   "source": [
    "netflix[\"date_added\"] = pd.to_datetime(netflix[\"date_added\"], errors = \"coerce\")\n",
    "netflix[\"date_added\"].fillna(\"Unknown\")"
   ]
  },
  {
   "cell_type": "markdown",
   "id": "bc35664a-40a4-47f1-9094-410680e62aaf",
   "metadata": {},
   "source": [
    "# Count Movies Vs TV Shows"
   ]
  },
  {
   "cell_type": "code",
   "execution_count": null,
   "id": "fe877762-cc5e-4e77-a5f3-50c8388b6b5a",
   "metadata": {},
   "outputs": [],
   "source": [
    "print(netflix['types'].value_counts())"
   ]
  },
  {
   "cell_type": "markdown",
   "id": "7e9e1519-8aef-46d5-9de6-68ba1ace4573",
   "metadata": {},
   "source": [
    "# Oldest movie on netflix"
   ]
  },
  {
   "cell_type": "code",
   "execution_count": null,
   "id": "a4629b9b-df71-43a1-956b-e8b49738fbba",
   "metadata": {},
   "outputs": [],
   "source": [
    "oldest_movie = netflix[netflix['type'] == 'Movie'].sort_values('release_year').head(1)\n",
    "print(oldest_movie[['title', 'release_year']]"
   ]
  },
  {
   "cell_type": "markdown",
   "id": "6a4d8821-0b64-4c1d-802a-eea4158017e9",
   "metadata": {},
   "source": [
    "# Top five(5) Countries producing content"
   ]
  },
  {
   "cell_type": "code",
   "execution_count": null,
   "id": "b9dffc36-04a9-43bc-ae10-747192de698c",
   "metadata": {},
   "outputs": [],
   "source": [
    "top_countries = netflix['country'].value_counts().head(5)\n",
    "print(top_countries)"
   ]
  },
  {
   "cell_type": "markdown",
   "id": "f9452990-14d9-49b8-b03e-4b1d8a7b6533",
   "metadata": {},
   "source": [
    "# Most common Genre"
   ]
  },
  {
   "cell_type": "code",
   "execution_count": null,
   "id": "58bb4033-f913-4123-95e0-66181e0348b9",
   "metadata": {},
   "outputs": [],
   "source": [
    "netflix['genre_split'] = netflix['listed_in'].str.split(', ')\n",
    "genre = netflix.explode('genre_split')\n",
    "print(genre['genre_split'].value_counts().head())"
   ]
  },
  {
   "cell_type": "markdown",
   "id": "3149e889-5aec-434e-b297-2b222ebc99f1",
   "metadata": {},
   "source": [
    "# How much content added each year"
   ]
  },
  {
   "cell_type": "code",
   "execution_count": null,
   "id": "ae9b8a85-ef4f-47e6-b6d6-efcfc1900a43",
   "metadata": {},
   "outputs": [],
   "source": [
    "netflix['year_added'] = pd.to_datetime(netflix['date_added']).dt.year\n",
    "yearly_content = netflix[\"year_added\"].value_counts().sort_index()\n",
    "print(yearly_content)"
   ]
  },
  {
   "cell_type": "markdown",
   "id": "5aea6d20-1b30-4dd6-87be-d19ba8f176e7",
   "metadata": {},
   "source": [
    "# Visualizations"
   ]
  },
  {
   "cell_type": "code",
   "execution_count": null,
   "id": "24486643-b79f-432d-95f6-4a98e2c1a90e",
   "metadata": {},
   "outputs": [],
   "source": [
    "import matplotlib.pyplot as plt\n",
    "import seaborn as sns\n",
    "sns.set_style('dark')"
   ]
  },
  {
   "cell_type": "markdown",
   "id": "1108ad3f-254c-4592-a079-f959f9d6ec2a",
   "metadata": {},
   "source": [
    "# Pie Char"
   ]
  },
  {
   "cell_type": "code",
   "execution_count": null,
   "id": "67defce0-9419-43aa-91b9-c489424e5d24",
   "metadata": {},
   "outputs": [],
   "source": [
    "sns.set_palette(\"colorblind\")\n",
    "type_counts = netflix['type'].value_counts()\n",
    "plt.figure(figsize = (6, 6))\n",
    "plt.pie(type_counts,\n",
    "        labels = type_counts.index,\n",
    "        autopct = '%.2f%%',\n",
    "        colors = ['#FF6B6B', '#4ECDC4']\n",
    "       )\n",
    "plt.title(\"Netflix Content: Movies VS TV Shows\", fontsize = 24)\n",
    "plt.legend()\n",
    "plt.show()"
   ]
  },
  {
   "cell_type": "markdown",
   "id": "a11a9685-8e5f-4c24-bdb4-7061f97cd18f",
   "metadata": {},
   "source": [
    "# Most common Genre"
   ]
  },
  {
   "cell_type": "code",
   "execution_count": null,
   "id": "73d54a64-602c-4a90-96d3-6deb74cffb30",
   "metadata": {},
   "outputs": [],
   "source": [
    "genres = netflix['listed_in'].str.split(', ').explode()\n",
    "top_genres = genres.value_counts().head(10)\n",
    "\n",
    "# Create a bar plot\n",
    "plt.figure(figsize=(10, 6))\n",
    "sns.barplot(x=top_genres.values, y=top_genres.index) #palette = \"viridis\"\n",
    "plt.title('Top 10 Genres on Netflix', fontsize = 24, weight = \"bold\")\n",
    "plt.xlabel('Number of Titles', fontsize = 20, weight = \"bold\")\n",
    "plt.ylabel('Genres', fontsize = 20, weight = \"bold\")\n",
    "plt.show()"
   ]
  },
  {
   "cell_type": "markdown",
   "id": "6bca003a-8f88-413c-84b2-16083e06d923",
   "metadata": {},
   "source": [
    "# Content Added Over Time"
   ]
  },
  {
   "cell_type": "code",
   "execution_count": null,
   "id": "c98a0809-86c3-4113-b3c8-ec431256d2c9",
   "metadata": {},
   "outputs": [],
   "source": [
    "plt.figure(figsize = (10, 5))\n",
    "sns.lineplot(x = yearly_content.index, y= yearly_content.values, color = '#9370DB')\n",
    "plt.title('Netflix Content Added by Year', fontsize = 24, weight = \"bold\")\n",
    "plt.xlabel('Year', fontsize = 20, weight = \"bold\")\n",
    "plt.ylabel('Number of Titles Added', fontsize = 20, weight = \"bold\")\n",
    "plt.grid(True)\n",
    "plt.show()"
   ]
  },
  {
   "cell_type": "markdown",
   "id": "5e9ac2c4-eb06-4d7a-97db-8ee48b9b010c",
   "metadata": {},
   "source": [
    "# Release Year Distribution"
   ]
  },
  {
   "cell_type": "code",
   "execution_count": null,
   "id": "81c5c8b8-f7e4-40b2-951d-09f1174aec32",
   "metadata": {},
   "outputs": [],
   "source": [
    "plt.figure(figsize = (10, 5))\n",
    "sns.set_style('darkgrid')\n",
    "sns.histplot(netflix['release_year'], bins = 30, kde = True, color = '#ffa07a')\n",
    "plt.title('Distribution of Release Years', fontsize = 24, weight = \"bold\")\n",
    "plt.xlabel('Release Year', fontsize =20, weight = \"bold\")\n",
    "plt.ylabel('Number of Titles', fontsize =20, weight= \"bold\")\n",
    "plt.axvline(x=netflix['release_year'].median(), color='red', linestyle='--', label='Median Year')\n",
    "plt.legend()\n",
    "plt.show()"
   ]
  },
  {
   "cell_type": "markdown",
   "id": "9b72f0a8-e16e-4b37-a77a-edb3a1462d77",
   "metadata": {},
   "source": [
    "# THANK YOU"
   ]
  },
  {
   "cell_type": "code",
   "execution_count": null,
   "id": "c4139d9d-edd7-4a18-bc6d-f523c968ba6c",
   "metadata": {},
   "outputs": [],
   "source": []
  }
 ],
 "metadata": {
  "kernelspec": {
   "display_name": "Python 3 (ipykernel)",
   "language": "python",
   "name": "python3"
  },
  "language_info": {
   "codemirror_mode": {
    "name": "ipython",
    "version": 3
   },
   "file_extension": ".py",
   "mimetype": "text/x-python",
   "name": "python",
   "nbconvert_exporter": "python",
   "pygments_lexer": "ipython3",
   "version": "3.12.7"
  }
 },
 "nbformat": 4,
 "nbformat_minor": 5
}
